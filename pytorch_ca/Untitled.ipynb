{
 "cells": [
  {
   "cell_type": "code",
   "execution_count": 176,
   "id": "eb244989-cceb-4903-8f4b-2c072e5c5346",
   "metadata": {},
   "outputs": [],
   "source": [
    "import torch\n",
    "from copy import deepcopy\n",
    "import jax\n",
    "import jax.numpy as jnp\n",
    "from jax import grad, jit, vmap, pmap\n",
    "from jax.ops import index_update\n",
    "import numpy as np"
   ]
  },
  {
   "cell_type": "code",
   "execution_count": 186,
   "id": "c921add9-8f0a-42ef-b3cf-ae7fb263a2bc",
   "metadata": {},
   "outputs": [],
   "source": [
    "class CA:\n",
    "    def __init__(self, initial_state, update_rule):\n",
    "        self.size = len(initial_state.shape)\n",
    "        self.previous_state = jnp.array(initial_state, dtype=int)\n",
    "        self.current_state = jnp.array(initial_state, dtype=int)\n",
    "        self.size = initial_state.shape\n",
    "        self.update_rule = update_rule\n",
    "        \n",
    "    \n",
    "    def init_compile(self):\n",
    "        self.timeStep = jit(vmap(self.timeStep))\n",
    "        self.evolve = jit(self.evolve)\n",
    "        \n",
    "    def timeStep(self):\n",
    "        for i in range(self.size[0]):\n",
    "            for j in range(self.size[1]):\n",
    "                self.current_state = self.current_state.at[i,j].set(self.update_rule(self.previous_state[i-1:i+2, j-1:j+2]))\n",
    "        \n",
    "        self.previous_state = jnp.array(self.current_state, dtype=int)\n",
    "        \n",
    "        return self.current_state\n",
    "        \n",
    "    \n",
    "    def evolve(self, t):\n",
    "        for i in range(t):\n",
    "            self.timeStep(current_state)\n",
    "    \n",
    "\n",
    "def kernelToNeighbourhood(kernel):\n",
    "    center = [i//2 for i in kernel.shape]\n",
    "    \n",
    "    neighbourhood = []\n",
    "    for i in range(kernel.shape[0]):\n",
    "        for j in range(kernel.shape[1]):\n",
    "            if kernel[i, j] == 1:\n",
    "                neighbourhood.append([i-center[0], j-center[1]])\n",
    "            \n",
    "    return jnp.array(neighbourhood)"
   ]
  },
  {
   "cell_type": "code",
   "execution_count": 188,
   "id": "78a73142-a548-4513-a547-410a7374ca52",
   "metadata": {},
   "outputs": [],
   "source": [
    "def update_rule(state):\n",
    "    return jnp.sum(state) % 3\n",
    "\n",
    "kernel = torch.ones((3,3), dtype=int)\n",
    "kernel[1,1] = 0\n",
    "neighbourhood = kernelToNeighbourhood(kernel)\n",
    "\n",
    "ca = CA(jnp.ones((100, 10), dtype=int), jit(update_rule))\n",
    "\n",
    "#ca.init_compile()"
   ]
  },
  {
   "cell_type": "code",
   "execution_count": 189,
   "id": "5558cec8-5807-464a-a908-d9a039967cee",
   "metadata": {},
   "outputs": [
    {
     "data": {
      "text/plain": [
       "DeviceArray([[0, 0, 0, 0, 0, 0, 0, 0, 0, 0],\n",
       "             [0, 0, 0, 0, 0, 0, 0, 0, 0, 0],\n",
       "             [0, 0, 0, 0, 0, 0, 0, 0, 0, 0],\n",
       "             [0, 0, 0, 0, 0, 0, 0, 0, 0, 0],\n",
       "             [0, 0, 0, 0, 0, 0, 0, 0, 0, 0],\n",
       "             [0, 0, 0, 0, 0, 0, 0, 0, 0, 0],\n",
       "             [0, 0, 0, 0, 0, 0, 0, 0, 0, 0],\n",
       "             [0, 0, 0, 0, 0, 0, 0, 0, 0, 0],\n",
       "             [0, 0, 0, 0, 0, 0, 0, 0, 0, 0],\n",
       "             [0, 0, 0, 0, 0, 0, 0, 0, 0, 0],\n",
       "             [0, 0, 0, 0, 0, 0, 0, 0, 0, 0],\n",
       "             [0, 0, 0, 0, 0, 0, 0, 0, 0, 0],\n",
       "             [0, 0, 0, 0, 0, 0, 0, 0, 0, 0],\n",
       "             [0, 0, 0, 0, 0, 0, 0, 0, 0, 0],\n",
       "             [0, 0, 0, 0, 0, 0, 0, 0, 0, 0],\n",
       "             [0, 0, 0, 0, 0, 0, 0, 0, 0, 0],\n",
       "             [0, 0, 0, 0, 0, 0, 0, 0, 0, 0],\n",
       "             [0, 0, 0, 0, 0, 0, 0, 0, 0, 0],\n",
       "             [0, 0, 0, 0, 0, 0, 0, 0, 0, 0],\n",
       "             [0, 0, 0, 0, 0, 0, 0, 0, 0, 0],\n",
       "             [0, 0, 0, 0, 0, 0, 0, 0, 0, 0],\n",
       "             [0, 0, 0, 0, 0, 0, 0, 0, 0, 0],\n",
       "             [0, 0, 0, 0, 0, 0, 0, 0, 0, 0],\n",
       "             [0, 0, 0, 0, 0, 0, 0, 0, 0, 0],\n",
       "             [0, 0, 0, 0, 0, 0, 0, 0, 0, 0],\n",
       "             [0, 0, 0, 0, 0, 0, 0, 0, 0, 0],\n",
       "             [0, 0, 0, 0, 0, 0, 0, 0, 0, 0],\n",
       "             [0, 0, 0, 0, 0, 0, 0, 0, 0, 0],\n",
       "             [0, 0, 0, 0, 0, 0, 0, 0, 0, 0],\n",
       "             [0, 0, 0, 0, 0, 0, 0, 0, 0, 0],\n",
       "             [0, 0, 0, 0, 0, 0, 0, 0, 0, 0],\n",
       "             [0, 0, 0, 0, 0, 0, 0, 0, 0, 0],\n",
       "             [0, 0, 0, 0, 0, 0, 0, 0, 0, 0],\n",
       "             [0, 0, 0, 0, 0, 0, 0, 0, 0, 0],\n",
       "             [0, 0, 0, 0, 0, 0, 0, 0, 0, 0],\n",
       "             [0, 0, 0, 0, 0, 0, 0, 0, 0, 0],\n",
       "             [0, 0, 0, 0, 0, 0, 0, 0, 0, 0],\n",
       "             [0, 0, 0, 0, 0, 0, 0, 0, 0, 0],\n",
       "             [0, 0, 0, 0, 0, 0, 0, 0, 0, 0],\n",
       "             [0, 0, 0, 0, 0, 0, 0, 0, 0, 0],\n",
       "             [0, 0, 0, 0, 0, 0, 0, 0, 0, 0],\n",
       "             [0, 0, 0, 0, 0, 0, 0, 0, 0, 0],\n",
       "             [0, 0, 0, 0, 0, 0, 0, 0, 0, 0],\n",
       "             [0, 0, 0, 0, 0, 0, 0, 0, 0, 0],\n",
       "             [0, 0, 0, 0, 0, 0, 0, 0, 0, 0],\n",
       "             [0, 0, 0, 0, 0, 0, 0, 0, 0, 0],\n",
       "             [0, 0, 0, 0, 0, 0, 0, 0, 0, 0],\n",
       "             [0, 0, 0, 0, 0, 0, 0, 0, 0, 0],\n",
       "             [0, 0, 0, 0, 0, 0, 0, 0, 0, 0],\n",
       "             [0, 0, 0, 0, 0, 0, 0, 0, 0, 0],\n",
       "             [0, 0, 0, 0, 0, 0, 0, 0, 0, 0],\n",
       "             [0, 0, 0, 0, 0, 0, 0, 0, 0, 0],\n",
       "             [0, 0, 0, 0, 0, 0, 0, 0, 0, 0],\n",
       "             [0, 0, 0, 0, 0, 0, 0, 0, 0, 0],\n",
       "             [0, 0, 0, 0, 0, 0, 0, 0, 0, 0],\n",
       "             [0, 0, 0, 0, 0, 0, 0, 0, 0, 0],\n",
       "             [0, 0, 0, 0, 0, 0, 0, 0, 0, 0],\n",
       "             [0, 0, 0, 0, 0, 0, 0, 0, 0, 0],\n",
       "             [0, 0, 0, 0, 0, 0, 0, 0, 0, 0],\n",
       "             [0, 0, 0, 0, 0, 0, 0, 0, 0, 0],\n",
       "             [0, 0, 0, 0, 0, 0, 0, 0, 0, 0],\n",
       "             [0, 0, 0, 0, 0, 0, 0, 0, 0, 0],\n",
       "             [0, 0, 0, 0, 0, 0, 0, 0, 0, 0],\n",
       "             [0, 0, 0, 0, 0, 0, 0, 0, 0, 0],\n",
       "             [0, 0, 0, 0, 0, 0, 0, 0, 0, 0],\n",
       "             [0, 0, 0, 0, 0, 0, 0, 0, 0, 0],\n",
       "             [0, 0, 0, 0, 0, 0, 0, 0, 0, 0],\n",
       "             [0, 0, 0, 0, 0, 0, 0, 0, 0, 0],\n",
       "             [0, 0, 0, 0, 0, 0, 0, 0, 0, 0],\n",
       "             [0, 0, 0, 0, 0, 0, 0, 0, 0, 0],\n",
       "             [0, 0, 0, 0, 0, 0, 0, 0, 0, 0],\n",
       "             [0, 0, 0, 0, 0, 0, 0, 0, 0, 0],\n",
       "             [0, 0, 0, 0, 0, 0, 0, 0, 0, 0],\n",
       "             [0, 0, 0, 0, 0, 0, 0, 0, 0, 0],\n",
       "             [0, 0, 0, 0, 0, 0, 0, 0, 0, 0],\n",
       "             [0, 0, 0, 0, 0, 0, 0, 0, 0, 0],\n",
       "             [0, 0, 0, 0, 0, 0, 0, 0, 0, 0],\n",
       "             [0, 0, 0, 0, 0, 0, 0, 0, 0, 0],\n",
       "             [0, 0, 0, 0, 0, 0, 0, 0, 0, 0],\n",
       "             [0, 0, 0, 0, 0, 0, 0, 0, 0, 0],\n",
       "             [0, 0, 0, 0, 0, 0, 0, 0, 0, 0],\n",
       "             [0, 0, 0, 0, 0, 0, 0, 0, 0, 0],\n",
       "             [0, 0, 0, 0, 0, 0, 0, 0, 0, 0],\n",
       "             [0, 0, 0, 0, 0, 0, 0, 0, 0, 0],\n",
       "             [0, 0, 0, 0, 0, 0, 0, 0, 0, 0],\n",
       "             [0, 0, 0, 0, 0, 0, 0, 0, 0, 0],\n",
       "             [0, 0, 0, 0, 0, 0, 0, 0, 0, 0],\n",
       "             [0, 0, 0, 0, 0, 0, 0, 0, 0, 0],\n",
       "             [0, 0, 0, 0, 0, 0, 0, 0, 0, 0],\n",
       "             [0, 0, 0, 0, 0, 0, 0, 0, 0, 0],\n",
       "             [0, 0, 0, 0, 0, 0, 0, 0, 0, 0],\n",
       "             [0, 0, 0, 0, 0, 0, 0, 0, 0, 0],\n",
       "             [0, 0, 0, 0, 0, 0, 0, 0, 0, 0],\n",
       "             [0, 0, 0, 0, 0, 0, 0, 0, 0, 0],\n",
       "             [0, 0, 0, 0, 0, 0, 0, 0, 0, 0],\n",
       "             [0, 0, 0, 0, 0, 0, 0, 0, 0, 0],\n",
       "             [0, 0, 0, 0, 0, 0, 0, 0, 0, 0],\n",
       "             [0, 0, 0, 0, 0, 0, 0, 0, 0, 0],\n",
       "             [0, 0, 0, 0, 0, 0, 0, 0, 0, 0],\n",
       "             [0, 0, 0, 0, 0, 0, 0, 0, 0, 1]], dtype=int32)"
      ]
     },
     "execution_count": 189,
     "metadata": {},
     "output_type": "execute_result"
    }
   ],
   "source": [
    "ca.timeStep()"
   ]
  },
  {
   "cell_type": "code",
   "execution_count": 169,
   "id": "d1560dae-44df-4753-af57-7e2fa413fbfa",
   "metadata": {},
   "outputs": [
    {
     "data": {
      "text/plain": [
       "Traced<ShapedArray(int32[3,3])>with<DynamicJaxprTrace(level=0/1)>"
      ]
     },
     "execution_count": 169,
     "metadata": {},
     "output_type": "execute_result"
    }
   ],
   "source": [
    "ca.current_state"
   ]
  }
 ],
 "metadata": {
  "kernelspec": {
   "display_name": "Python 3.8.10 64-bit ('anaconda3': virtualenv)",
   "language": "python",
   "name": "python3810jvsc74a57bd0826ac774da20863171be87f505c983a23ca5099031a67b4f2c0e4fe6baa8958e"
  },
  "language_info": {
   "codemirror_mode": {
    "name": "ipython",
    "version": 3
   },
   "file_extension": ".py",
   "mimetype": "text/x-python",
   "name": "python",
   "nbconvert_exporter": "python",
   "pygments_lexer": "ipython3",
   "version": "3.8.10"
  }
 },
 "nbformat": 4,
 "nbformat_minor": 5
}
